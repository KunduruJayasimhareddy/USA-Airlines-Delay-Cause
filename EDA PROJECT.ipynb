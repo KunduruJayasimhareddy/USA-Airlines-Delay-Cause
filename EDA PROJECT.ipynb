{
 "cells": [
  {
   "cell_type": "markdown",
   "id": "cc442bd2",
   "metadata": {},
   "source": [
    "What flights does the reporting cover?\n",
    "The rule requires carriers to report on domestic operations to and from U.S. airports.\n",
    "A flight is considered delayed when it arrived 15 or more minutes than the schedule. Delayed minutes are calculated for delayed flights only.\n",
    "When multiple causes are assigned to one delayed flight, each cause is prorated based on delayed minutes it is responsible for. The displayed numbers are rounded and may not add up to the total.\n",
    "The marketing carrier networks are:\n",
    "Alaska Airlines (AS)*\n",
    "Allegiant Air (G4)\n",
    "American Airlines (AA)*\n",
    "Delta Air Lines (DL)*\n",
    "Frontier Airlines (F9)\n",
    "Hawaiian Airlines (HA)*\n",
    "JetBlue Airways (B6)\n",
    "Southwest Airlines (WN)\n",
    "Spirit Airlines (NK)\n",
    "United Airlines (UA)*\n",
    "*Includes branded code-share partners\n",
    "The reporting airlines are:\n",
    "Alaska Airlines (AS)\n",
    "Allegiant Air (G4)\n",
    "American Airlines (AA)\n",
    "Delta Air Lines (DL)\n",
    "Endeavor Air (9E)\n",
    "Envoy Air (MQ)\n",
    "Frontier Airlines (F9)\n",
    "Hawaiian Airlines (HA)\n",
    "Horizon Air (QX)\n",
    "JetBlue Airways (B6)\n",
    "Mesa Airlines (YV)\n",
    "PSA Airlines (OH)\n",
    "Republic Airlines (YX)\n",
    "SkyWest Airlines (OO)\n",
    "Southwest Airlines (WN)\n",
    "Spirit Airlines (NK)\n",
    "United Airlines (UA)\n",
    "The airlines report the causes of delays in five broad categories:\n",
    "•\tAir Carrier: The cause of the cancellation or delay was due to circumstances within the airline's control (e.g. maintenance or crew problems, aircraft cleaning, baggage loading, fueling, etc.).\n",
    "•\tExtreme Weather: Significant meteorological conditions (actual or forecasted) that, in the judgment of the carrier, delays or prevents the operation of a flight such as tornado, blizzard or hurricane.\n",
    "•\tNational Aviation System (NAS): Delays and cancellations attributable to the national aviation system that refer to a broad set of conditions, such as non-extreme weather conditions, airport operations, heavy traffic volume, and air traffic control.\n",
    "•\tLate-arriving aircraft: A previous flight with same aircraft arrived late, causing the present flight to depart late.\n",
    "•\tSecurity: Delays or cancellations caused by evacuation of a terminal or concourse, re-boarding of aircraft because of security breach, inoperative screening equipment and/or long lines in excess of 29 minutes at screening areas.\n"
   ]
  },
  {
   "cell_type": "code",
   "execution_count": 1,
   "id": "c2390e69",
   "metadata": {},
   "outputs": [],
   "source": [
    "import pandas as pd\n",
    "import numpy as np\n",
    "import matplotlib.pyplot as plt\n",
    "import seaborn as sns"
   ]
  },
  {
   "cell_type": "code",
   "execution_count": 2,
   "id": "72187367",
   "metadata": {},
   "outputs": [],
   "source": [
    "df = pd.read_csv(\"Airline_Delay_Cause.csv\")"
   ]
  },
  {
   "cell_type": "code",
   "execution_count": 3,
   "id": "08448a40",
   "metadata": {},
   "outputs": [
    {
     "data": {
      "text/plain": [
       "(318017, 21)"
      ]
     },
     "execution_count": 3,
     "metadata": {},
     "output_type": "execute_result"
    }
   ],
   "source": [
    "df.shape"
   ]
  },
  {
   "cell_type": "markdown",
   "id": "bc48a4cc",
   "metadata": {},
   "source": [
    "### The dataset has 318017 rows and 21 columns"
   ]
  },
  {
   "cell_type": "code",
   "execution_count": 4,
   "id": "9376e21d",
   "metadata": {},
   "outputs": [
    {
     "data": {
      "text/html": [
       "<div>\n",
       "<style scoped>\n",
       "    .dataframe tbody tr th:only-of-type {\n",
       "        vertical-align: middle;\n",
       "    }\n",
       "\n",
       "    .dataframe tbody tr th {\n",
       "        vertical-align: top;\n",
       "    }\n",
       "\n",
       "    .dataframe thead th {\n",
       "        text-align: right;\n",
       "    }\n",
       "</style>\n",
       "<table border=\"1\" class=\"dataframe\">\n",
       "  <thead>\n",
       "    <tr style=\"text-align: right;\">\n",
       "      <th></th>\n",
       "      <th>year</th>\n",
       "      <th>month</th>\n",
       "      <th>carrier</th>\n",
       "      <th>carrier_name</th>\n",
       "      <th>airport</th>\n",
       "      <th>airport_name</th>\n",
       "      <th>arr_flights</th>\n",
       "      <th>arr_del15</th>\n",
       "      <th>carrier_ct</th>\n",
       "      <th>weather_ct</th>\n",
       "      <th>...</th>\n",
       "      <th>security_ct</th>\n",
       "      <th>late_aircraft_ct</th>\n",
       "      <th>arr_cancelled</th>\n",
       "      <th>arr_diverted</th>\n",
       "      <th>arr_delay</th>\n",
       "      <th>carrier_delay</th>\n",
       "      <th>weather_delay</th>\n",
       "      <th>nas_delay</th>\n",
       "      <th>security_delay</th>\n",
       "      <th>late_aircraft_delay</th>\n",
       "    </tr>\n",
       "  </thead>\n",
       "  <tbody>\n",
       "    <tr>\n",
       "      <th>0</th>\n",
       "      <td>2022</td>\n",
       "      <td>5</td>\n",
       "      <td>9E</td>\n",
       "      <td>Endeavor Air Inc.</td>\n",
       "      <td>ABE</td>\n",
       "      <td>Allentown/Bethlehem/Easton, PA: Lehigh Valley ...</td>\n",
       "      <td>136.0</td>\n",
       "      <td>7.0</td>\n",
       "      <td>5.95</td>\n",
       "      <td>0.00</td>\n",
       "      <td>...</td>\n",
       "      <td>0.0</td>\n",
       "      <td>1.00</td>\n",
       "      <td>0.0</td>\n",
       "      <td>0.0</td>\n",
       "      <td>255.0</td>\n",
       "      <td>222.0</td>\n",
       "      <td>0.0</td>\n",
       "      <td>4.0</td>\n",
       "      <td>0.0</td>\n",
       "      <td>29.0</td>\n",
       "    </tr>\n",
       "    <tr>\n",
       "      <th>1</th>\n",
       "      <td>2022</td>\n",
       "      <td>5</td>\n",
       "      <td>9E</td>\n",
       "      <td>Endeavor Air Inc.</td>\n",
       "      <td>ABY</td>\n",
       "      <td>Albany, GA: Southwest Georgia Regional</td>\n",
       "      <td>91.0</td>\n",
       "      <td>16.0</td>\n",
       "      <td>7.38</td>\n",
       "      <td>0.00</td>\n",
       "      <td>...</td>\n",
       "      <td>0.0</td>\n",
       "      <td>6.09</td>\n",
       "      <td>0.0</td>\n",
       "      <td>0.0</td>\n",
       "      <td>884.0</td>\n",
       "      <td>351.0</td>\n",
       "      <td>0.0</td>\n",
       "      <td>81.0</td>\n",
       "      <td>0.0</td>\n",
       "      <td>452.0</td>\n",
       "    </tr>\n",
       "    <tr>\n",
       "      <th>2</th>\n",
       "      <td>2022</td>\n",
       "      <td>5</td>\n",
       "      <td>9E</td>\n",
       "      <td>Endeavor Air Inc.</td>\n",
       "      <td>ACK</td>\n",
       "      <td>Nantucket, MA: Nantucket Memorial</td>\n",
       "      <td>19.0</td>\n",
       "      <td>2.0</td>\n",
       "      <td>0.13</td>\n",
       "      <td>0.00</td>\n",
       "      <td>...</td>\n",
       "      <td>0.0</td>\n",
       "      <td>0.88</td>\n",
       "      <td>1.0</td>\n",
       "      <td>0.0</td>\n",
       "      <td>138.0</td>\n",
       "      <td>4.0</td>\n",
       "      <td>0.0</td>\n",
       "      <td>106.0</td>\n",
       "      <td>0.0</td>\n",
       "      <td>28.0</td>\n",
       "    </tr>\n",
       "    <tr>\n",
       "      <th>3</th>\n",
       "      <td>2022</td>\n",
       "      <td>5</td>\n",
       "      <td>9E</td>\n",
       "      <td>Endeavor Air Inc.</td>\n",
       "      <td>AEX</td>\n",
       "      <td>Alexandria, LA: Alexandria International</td>\n",
       "      <td>88.0</td>\n",
       "      <td>14.0</td>\n",
       "      <td>7.26</td>\n",
       "      <td>0.76</td>\n",
       "      <td>...</td>\n",
       "      <td>0.0</td>\n",
       "      <td>1.64</td>\n",
       "      <td>0.0</td>\n",
       "      <td>0.0</td>\n",
       "      <td>947.0</td>\n",
       "      <td>585.0</td>\n",
       "      <td>35.0</td>\n",
       "      <td>125.0</td>\n",
       "      <td>0.0</td>\n",
       "      <td>202.0</td>\n",
       "    </tr>\n",
       "    <tr>\n",
       "      <th>4</th>\n",
       "      <td>2022</td>\n",
       "      <td>5</td>\n",
       "      <td>9E</td>\n",
       "      <td>Endeavor Air Inc.</td>\n",
       "      <td>AGS</td>\n",
       "      <td>Augusta, GA: Augusta Regional at Bush Field</td>\n",
       "      <td>181.0</td>\n",
       "      <td>19.0</td>\n",
       "      <td>13.84</td>\n",
       "      <td>0.00</td>\n",
       "      <td>...</td>\n",
       "      <td>0.0</td>\n",
       "      <td>2.09</td>\n",
       "      <td>0.0</td>\n",
       "      <td>0.0</td>\n",
       "      <td>808.0</td>\n",
       "      <td>662.0</td>\n",
       "      <td>0.0</td>\n",
       "      <td>87.0</td>\n",
       "      <td>0.0</td>\n",
       "      <td>59.0</td>\n",
       "    </tr>\n",
       "  </tbody>\n",
       "</table>\n",
       "<p>5 rows × 21 columns</p>\n",
       "</div>"
      ],
      "text/plain": [
       "   year  month carrier       carrier_name airport  \\\n",
       "0  2022      5      9E  Endeavor Air Inc.     ABE   \n",
       "1  2022      5      9E  Endeavor Air Inc.     ABY   \n",
       "2  2022      5      9E  Endeavor Air Inc.     ACK   \n",
       "3  2022      5      9E  Endeavor Air Inc.     AEX   \n",
       "4  2022      5      9E  Endeavor Air Inc.     AGS   \n",
       "\n",
       "                                        airport_name  arr_flights  arr_del15  \\\n",
       "0  Allentown/Bethlehem/Easton, PA: Lehigh Valley ...        136.0        7.0   \n",
       "1             Albany, GA: Southwest Georgia Regional         91.0       16.0   \n",
       "2                  Nantucket, MA: Nantucket Memorial         19.0        2.0   \n",
       "3           Alexandria, LA: Alexandria International         88.0       14.0   \n",
       "4        Augusta, GA: Augusta Regional at Bush Field        181.0       19.0   \n",
       "\n",
       "   carrier_ct  weather_ct  ...  security_ct  late_aircraft_ct  arr_cancelled  \\\n",
       "0        5.95        0.00  ...          0.0              1.00            0.0   \n",
       "1        7.38        0.00  ...          0.0              6.09            0.0   \n",
       "2        0.13        0.00  ...          0.0              0.88            1.0   \n",
       "3        7.26        0.76  ...          0.0              1.64            0.0   \n",
       "4       13.84        0.00  ...          0.0              2.09            0.0   \n",
       "\n",
       "   arr_diverted  arr_delay  carrier_delay  weather_delay  nas_delay  \\\n",
       "0           0.0      255.0          222.0            0.0        4.0   \n",
       "1           0.0      884.0          351.0            0.0       81.0   \n",
       "2           0.0      138.0            4.0            0.0      106.0   \n",
       "3           0.0      947.0          585.0           35.0      125.0   \n",
       "4           0.0      808.0          662.0            0.0       87.0   \n",
       "\n",
       "   security_delay  late_aircraft_delay  \n",
       "0             0.0                 29.0  \n",
       "1             0.0                452.0  \n",
       "2             0.0                 28.0  \n",
       "3             0.0                202.0  \n",
       "4             0.0                 59.0  \n",
       "\n",
       "[5 rows x 21 columns]"
      ]
     },
     "execution_count": 4,
     "metadata": {},
     "output_type": "execute_result"
    }
   ],
   "source": [
    "df.head()"
   ]
  },
  {
   "cell_type": "code",
   "execution_count": 5,
   "id": "e4fd8e6f",
   "metadata": {},
   "outputs": [
    {
     "data": {
      "text/html": [
       "<div>\n",
       "<style scoped>\n",
       "    .dataframe tbody tr th:only-of-type {\n",
       "        vertical-align: middle;\n",
       "    }\n",
       "\n",
       "    .dataframe tbody tr th {\n",
       "        vertical-align: top;\n",
       "    }\n",
       "\n",
       "    .dataframe thead th {\n",
       "        text-align: right;\n",
       "    }\n",
       "</style>\n",
       "<table border=\"1\" class=\"dataframe\">\n",
       "  <thead>\n",
       "    <tr style=\"text-align: right;\">\n",
       "      <th></th>\n",
       "      <th>year</th>\n",
       "      <th>month</th>\n",
       "      <th>carrier</th>\n",
       "      <th>carrier_name</th>\n",
       "      <th>airport</th>\n",
       "      <th>airport_name</th>\n",
       "      <th>arr_flights</th>\n",
       "      <th>arr_del15</th>\n",
       "      <th>carrier_ct</th>\n",
       "      <th>weather_ct</th>\n",
       "      <th>...</th>\n",
       "      <th>security_ct</th>\n",
       "      <th>late_aircraft_ct</th>\n",
       "      <th>arr_cancelled</th>\n",
       "      <th>arr_diverted</th>\n",
       "      <th>arr_delay</th>\n",
       "      <th>carrier_delay</th>\n",
       "      <th>weather_delay</th>\n",
       "      <th>nas_delay</th>\n",
       "      <th>security_delay</th>\n",
       "      <th>late_aircraft_delay</th>\n",
       "    </tr>\n",
       "  </thead>\n",
       "  <tbody>\n",
       "    <tr>\n",
       "      <th>318012</th>\n",
       "      <td>2003</td>\n",
       "      <td>6</td>\n",
       "      <td>DL</td>\n",
       "      <td>Delta Air Lines Inc.</td>\n",
       "      <td>SEA</td>\n",
       "      <td>Seattle, WA: Seattle/Tacoma International</td>\n",
       "      <td>480.0</td>\n",
       "      <td>84.0</td>\n",
       "      <td>25.69</td>\n",
       "      <td>3.09</td>\n",
       "      <td>...</td>\n",
       "      <td>0.0</td>\n",
       "      <td>21.26</td>\n",
       "      <td>0.0</td>\n",
       "      <td>0.0</td>\n",
       "      <td>3744.0</td>\n",
       "      <td>978.0</td>\n",
       "      <td>164.0</td>\n",
       "      <td>1023.0</td>\n",
       "      <td>0.0</td>\n",
       "      <td>1579.0</td>\n",
       "    </tr>\n",
       "    <tr>\n",
       "      <th>318013</th>\n",
       "      <td>2003</td>\n",
       "      <td>6</td>\n",
       "      <td>DL</td>\n",
       "      <td>Delta Air Lines Inc.</td>\n",
       "      <td>SFO</td>\n",
       "      <td>San Francisco, CA: San Francisco International</td>\n",
       "      <td>505.0</td>\n",
       "      <td>111.0</td>\n",
       "      <td>21.78</td>\n",
       "      <td>2.24</td>\n",
       "      <td>...</td>\n",
       "      <td>0.0</td>\n",
       "      <td>13.17</td>\n",
       "      <td>3.0</td>\n",
       "      <td>0.0</td>\n",
       "      <td>4284.0</td>\n",
       "      <td>1376.0</td>\n",
       "      <td>138.0</td>\n",
       "      <td>2132.0</td>\n",
       "      <td>0.0</td>\n",
       "      <td>638.0</td>\n",
       "    </tr>\n",
       "    <tr>\n",
       "      <th>318014</th>\n",
       "      <td>2003</td>\n",
       "      <td>6</td>\n",
       "      <td>DL</td>\n",
       "      <td>Delta Air Lines Inc.</td>\n",
       "      <td>SJC</td>\n",
       "      <td>San Jose, CA: Norman Y. Mineta San Jose Intern...</td>\n",
       "      <td>146.0</td>\n",
       "      <td>36.0</td>\n",
       "      <td>6.99</td>\n",
       "      <td>0.00</td>\n",
       "      <td>...</td>\n",
       "      <td>0.0</td>\n",
       "      <td>2.15</td>\n",
       "      <td>0.0</td>\n",
       "      <td>0.0</td>\n",
       "      <td>896.0</td>\n",
       "      <td>205.0</td>\n",
       "      <td>0.0</td>\n",
       "      <td>607.0</td>\n",
       "      <td>0.0</td>\n",
       "      <td>84.0</td>\n",
       "    </tr>\n",
       "    <tr>\n",
       "      <th>318015</th>\n",
       "      <td>2003</td>\n",
       "      <td>6</td>\n",
       "      <td>DL</td>\n",
       "      <td>Delta Air Lines Inc.</td>\n",
       "      <td>SJU</td>\n",
       "      <td>San Juan, PR: Luis Munoz Marin International</td>\n",
       "      <td>95.0</td>\n",
       "      <td>13.0</td>\n",
       "      <td>3.66</td>\n",
       "      <td>0.00</td>\n",
       "      <td>...</td>\n",
       "      <td>0.0</td>\n",
       "      <td>1.42</td>\n",
       "      <td>0.0</td>\n",
       "      <td>0.0</td>\n",
       "      <td>367.0</td>\n",
       "      <td>120.0</td>\n",
       "      <td>0.0</td>\n",
       "      <td>210.0</td>\n",
       "      <td>0.0</td>\n",
       "      <td>37.0</td>\n",
       "    </tr>\n",
       "    <tr>\n",
       "      <th>318016</th>\n",
       "      <td>2003</td>\n",
       "      <td>6</td>\n",
       "      <td>DL</td>\n",
       "      <td>Delta Air Lines Inc.</td>\n",
       "      <td>SLC</td>\n",
       "      <td>Salt Lake City, UT: Salt Lake City International</td>\n",
       "      <td>3466.0</td>\n",
       "      <td>454.0</td>\n",
       "      <td>121.15</td>\n",
       "      <td>7.61</td>\n",
       "      <td>...</td>\n",
       "      <td>1.0</td>\n",
       "      <td>102.33</td>\n",
       "      <td>9.0</td>\n",
       "      <td>0.0</td>\n",
       "      <td>16853.0</td>\n",
       "      <td>5384.0</td>\n",
       "      <td>306.0</td>\n",
       "      <td>5686.0</td>\n",
       "      <td>28.0</td>\n",
       "      <td>5449.0</td>\n",
       "    </tr>\n",
       "  </tbody>\n",
       "</table>\n",
       "<p>5 rows × 21 columns</p>\n",
       "</div>"
      ],
      "text/plain": [
       "        year  month carrier          carrier_name airport  \\\n",
       "318012  2003      6      DL  Delta Air Lines Inc.     SEA   \n",
       "318013  2003      6      DL  Delta Air Lines Inc.     SFO   \n",
       "318014  2003      6      DL  Delta Air Lines Inc.     SJC   \n",
       "318015  2003      6      DL  Delta Air Lines Inc.     SJU   \n",
       "318016  2003      6      DL  Delta Air Lines Inc.     SLC   \n",
       "\n",
       "                                             airport_name  arr_flights  \\\n",
       "318012          Seattle, WA: Seattle/Tacoma International        480.0   \n",
       "318013     San Francisco, CA: San Francisco International        505.0   \n",
       "318014  San Jose, CA: Norman Y. Mineta San Jose Intern...        146.0   \n",
       "318015       San Juan, PR: Luis Munoz Marin International         95.0   \n",
       "318016   Salt Lake City, UT: Salt Lake City International       3466.0   \n",
       "\n",
       "        arr_del15  carrier_ct  weather_ct  ...  security_ct  late_aircraft_ct  \\\n",
       "318012       84.0       25.69        3.09  ...          0.0             21.26   \n",
       "318013      111.0       21.78        2.24  ...          0.0             13.17   \n",
       "318014       36.0        6.99        0.00  ...          0.0              2.15   \n",
       "318015       13.0        3.66        0.00  ...          0.0              1.42   \n",
       "318016      454.0      121.15        7.61  ...          1.0            102.33   \n",
       "\n",
       "        arr_cancelled  arr_diverted  arr_delay  carrier_delay  weather_delay  \\\n",
       "318012            0.0           0.0     3744.0          978.0          164.0   \n",
       "318013            3.0           0.0     4284.0         1376.0          138.0   \n",
       "318014            0.0           0.0      896.0          205.0            0.0   \n",
       "318015            0.0           0.0      367.0          120.0            0.0   \n",
       "318016            9.0           0.0    16853.0         5384.0          306.0   \n",
       "\n",
       "        nas_delay  security_delay  late_aircraft_delay  \n",
       "318012     1023.0             0.0               1579.0  \n",
       "318013     2132.0             0.0                638.0  \n",
       "318014      607.0             0.0                 84.0  \n",
       "318015      210.0             0.0                 37.0  \n",
       "318016     5686.0            28.0               5449.0  \n",
       "\n",
       "[5 rows x 21 columns]"
      ]
     },
     "execution_count": 5,
     "metadata": {},
     "output_type": "execute_result"
    }
   ],
   "source": [
    "df.tail()"
   ]
  },
  {
   "cell_type": "code",
   "execution_count": 6,
   "id": "47506288",
   "metadata": {},
   "outputs": [
    {
     "name": "stdout",
     "output_type": "stream",
     "text": [
      "<class 'pandas.core.frame.DataFrame'>\n",
      "RangeIndex: 318017 entries, 0 to 318016\n",
      "Data columns (total 21 columns):\n",
      " #   Column               Non-Null Count   Dtype  \n",
      "---  ------               --------------   -----  \n",
      " 0   year                 318017 non-null  int64  \n",
      " 1   month                318017 non-null  int64  \n",
      " 2   carrier              318017 non-null  object \n",
      " 3   carrier_name         318017 non-null  object \n",
      " 4   airport              318017 non-null  object \n",
      " 5   airport_name         318017 non-null  object \n",
      " 6   arr_flights          317529 non-null  float64\n",
      " 7   arr_del15            317289 non-null  float64\n",
      " 8   carrier_ct           317529 non-null  float64\n",
      " 9   weather_ct           317529 non-null  float64\n",
      " 10  nas_ct               317529 non-null  float64\n",
      " 11  security_ct          317529 non-null  float64\n",
      " 12  late_aircraft_ct     317529 non-null  float64\n",
      " 13  arr_cancelled        317529 non-null  float64\n",
      " 14  arr_diverted         317529 non-null  float64\n",
      " 15  arr_delay            317529 non-null  float64\n",
      " 16  carrier_delay        317529 non-null  float64\n",
      " 17  weather_delay        317529 non-null  float64\n",
      " 18  nas_delay            317529 non-null  float64\n",
      " 19  security_delay       317529 non-null  float64\n",
      " 20  late_aircraft_delay  317529 non-null  float64\n",
      "dtypes: float64(15), int64(2), object(4)\n",
      "memory usage: 51.0+ MB\n"
     ]
    }
   ],
   "source": [
    "df.info()"
   ]
  },
  {
   "cell_type": "markdown",
   "id": "c84c30de",
   "metadata": {},
   "source": [
    "### The dataset has 4 object(string) columns(carrier_name,carrier,airport_name,airport), 2 integer columns(year,month) and and remaining all other columns are of float type."
   ]
  },
  {
   "cell_type": "code",
   "execution_count": 7,
   "id": "205cc3d1",
   "metadata": {
    "scrolled": true
   },
   "outputs": [
    {
     "data": {
      "text/html": [
       "<div>\n",
       "<style scoped>\n",
       "    .dataframe tbody tr th:only-of-type {\n",
       "        vertical-align: middle;\n",
       "    }\n",
       "\n",
       "    .dataframe tbody tr th {\n",
       "        vertical-align: top;\n",
       "    }\n",
       "\n",
       "    .dataframe thead th {\n",
       "        text-align: right;\n",
       "    }\n",
       "</style>\n",
       "<table border=\"1\" class=\"dataframe\">\n",
       "  <thead>\n",
       "    <tr style=\"text-align: right;\">\n",
       "      <th></th>\n",
       "      <th>year</th>\n",
       "      <th>month</th>\n",
       "      <th>arr_flights</th>\n",
       "      <th>arr_del15</th>\n",
       "      <th>carrier_ct</th>\n",
       "      <th>weather_ct</th>\n",
       "      <th>nas_ct</th>\n",
       "      <th>security_ct</th>\n",
       "      <th>late_aircraft_ct</th>\n",
       "      <th>arr_cancelled</th>\n",
       "      <th>arr_diverted</th>\n",
       "      <th>arr_delay</th>\n",
       "      <th>carrier_delay</th>\n",
       "      <th>weather_delay</th>\n",
       "      <th>nas_delay</th>\n",
       "      <th>security_delay</th>\n",
       "      <th>late_aircraft_delay</th>\n",
       "    </tr>\n",
       "  </thead>\n",
       "  <tbody>\n",
       "    <tr>\n",
       "      <th>count</th>\n",
       "      <td>318017.000000</td>\n",
       "      <td>318017.000000</td>\n",
       "      <td>317529.000000</td>\n",
       "      <td>317289.000000</td>\n",
       "      <td>317529.000000</td>\n",
       "      <td>317529.000000</td>\n",
       "      <td>317529.000000</td>\n",
       "      <td>317529.000000</td>\n",
       "      <td>317529.000000</td>\n",
       "      <td>317529.000000</td>\n",
       "      <td>317529.000000</td>\n",
       "      <td>317529.000000</td>\n",
       "      <td>317529.000000</td>\n",
       "      <td>317529.000000</td>\n",
       "      <td>317529.000000</td>\n",
       "      <td>317529.000000</td>\n",
       "      <td>317529.000000</td>\n",
       "    </tr>\n",
       "    <tr>\n",
       "      <th>mean</th>\n",
       "      <td>2012.450957</td>\n",
       "      <td>6.497844</td>\n",
       "      <td>381.763984</td>\n",
       "      <td>72.904403</td>\n",
       "      <td>21.072980</td>\n",
       "      <td>2.616379</td>\n",
       "      <td>24.005228</td>\n",
       "      <td>0.179037</td>\n",
       "      <td>24.975734</td>\n",
       "      <td>7.207257</td>\n",
       "      <td>0.867672</td>\n",
       "      <td>4209.947536</td>\n",
       "      <td>1286.583503</td>\n",
       "      <td>220.567542</td>\n",
       "      <td>1099.516422</td>\n",
       "      <td>7.214799</td>\n",
       "      <td>1596.062993</td>\n",
       "    </tr>\n",
       "    <tr>\n",
       "      <th>std</th>\n",
       "      <td>5.678296</td>\n",
       "      <td>3.459423</td>\n",
       "      <td>1027.148994</td>\n",
       "      <td>198.935595</td>\n",
       "      <td>47.671306</td>\n",
       "      <td>9.968549</td>\n",
       "      <td>85.113757</td>\n",
       "      <td>0.844834</td>\n",
       "      <td>75.275223</td>\n",
       "      <td>37.216301</td>\n",
       "      <td>3.915760</td>\n",
       "      <td>12518.907854</td>\n",
       "      <td>3515.397263</td>\n",
       "      <td>861.521440</td>\n",
       "      <td>4636.475908</td>\n",
       "      <td>38.854566</td>\n",
       "      <td>4924.950687</td>\n",
       "    </tr>\n",
       "    <tr>\n",
       "      <th>min</th>\n",
       "      <td>2003.000000</td>\n",
       "      <td>1.000000</td>\n",
       "      <td>1.000000</td>\n",
       "      <td>0.000000</td>\n",
       "      <td>0.000000</td>\n",
       "      <td>0.000000</td>\n",
       "      <td>-0.010000</td>\n",
       "      <td>0.000000</td>\n",
       "      <td>0.000000</td>\n",
       "      <td>0.000000</td>\n",
       "      <td>0.000000</td>\n",
       "      <td>0.000000</td>\n",
       "      <td>0.000000</td>\n",
       "      <td>0.000000</td>\n",
       "      <td>-19.000000</td>\n",
       "      <td>0.000000</td>\n",
       "      <td>0.000000</td>\n",
       "    </tr>\n",
       "    <tr>\n",
       "      <th>25%</th>\n",
       "      <td>2007.000000</td>\n",
       "      <td>3.000000</td>\n",
       "      <td>59.000000</td>\n",
       "      <td>9.000000</td>\n",
       "      <td>3.000000</td>\n",
       "      <td>0.000000</td>\n",
       "      <td>1.680000</td>\n",
       "      <td>0.000000</td>\n",
       "      <td>1.640000</td>\n",
       "      <td>0.000000</td>\n",
       "      <td>0.000000</td>\n",
       "      <td>436.000000</td>\n",
       "      <td>148.000000</td>\n",
       "      <td>0.000000</td>\n",
       "      <td>56.000000</td>\n",
       "      <td>0.000000</td>\n",
       "      <td>79.000000</td>\n",
       "    </tr>\n",
       "    <tr>\n",
       "      <th>50%</th>\n",
       "      <td>2012.000000</td>\n",
       "      <td>6.000000</td>\n",
       "      <td>120.000000</td>\n",
       "      <td>23.000000</td>\n",
       "      <td>8.190000</td>\n",
       "      <td>0.580000</td>\n",
       "      <td>5.490000</td>\n",
       "      <td>0.000000</td>\n",
       "      <td>5.860000</td>\n",
       "      <td>1.000000</td>\n",
       "      <td>0.000000</td>\n",
       "      <td>1201.000000</td>\n",
       "      <td>437.000000</td>\n",
       "      <td>25.000000</td>\n",
       "      <td>203.000000</td>\n",
       "      <td>0.000000</td>\n",
       "      <td>351.000000</td>\n",
       "    </tr>\n",
       "    <tr>\n",
       "      <th>75%</th>\n",
       "      <td>2018.000000</td>\n",
       "      <td>10.000000</td>\n",
       "      <td>273.000000</td>\n",
       "      <td>56.000000</td>\n",
       "      <td>19.690000</td>\n",
       "      <td>2.000000</td>\n",
       "      <td>15.350000</td>\n",
       "      <td>0.000000</td>\n",
       "      <td>17.040000</td>\n",
       "      <td>4.000000</td>\n",
       "      <td>1.000000</td>\n",
       "      <td>3080.000000</td>\n",
       "      <td>1100.000000</td>\n",
       "      <td>159.000000</td>\n",
       "      <td>602.000000</td>\n",
       "      <td>0.000000</td>\n",
       "      <td>1110.000000</td>\n",
       "    </tr>\n",
       "    <tr>\n",
       "      <th>max</th>\n",
       "      <td>2022.000000</td>\n",
       "      <td>12.000000</td>\n",
       "      <td>21977.000000</td>\n",
       "      <td>6377.000000</td>\n",
       "      <td>1792.070000</td>\n",
       "      <td>717.940000</td>\n",
       "      <td>4091.270000</td>\n",
       "      <td>80.560000</td>\n",
       "      <td>1885.470000</td>\n",
       "      <td>4951.000000</td>\n",
       "      <td>256.000000</td>\n",
       "      <td>433687.000000</td>\n",
       "      <td>196944.000000</td>\n",
       "      <td>57707.000000</td>\n",
       "      <td>238440.000000</td>\n",
       "      <td>3760.000000</td>\n",
       "      <td>148181.000000</td>\n",
       "    </tr>\n",
       "  </tbody>\n",
       "</table>\n",
       "</div>"
      ],
      "text/plain": [
       "                year          month    arr_flights      arr_del15  \\\n",
       "count  318017.000000  318017.000000  317529.000000  317289.000000   \n",
       "mean     2012.450957       6.497844     381.763984      72.904403   \n",
       "std         5.678296       3.459423    1027.148994     198.935595   \n",
       "min      2003.000000       1.000000       1.000000       0.000000   \n",
       "25%      2007.000000       3.000000      59.000000       9.000000   \n",
       "50%      2012.000000       6.000000     120.000000      23.000000   \n",
       "75%      2018.000000      10.000000     273.000000      56.000000   \n",
       "max      2022.000000      12.000000   21977.000000    6377.000000   \n",
       "\n",
       "          carrier_ct     weather_ct         nas_ct    security_ct  \\\n",
       "count  317529.000000  317529.000000  317529.000000  317529.000000   \n",
       "mean       21.072980       2.616379      24.005228       0.179037   \n",
       "std        47.671306       9.968549      85.113757       0.844834   \n",
       "min         0.000000       0.000000      -0.010000       0.000000   \n",
       "25%         3.000000       0.000000       1.680000       0.000000   \n",
       "50%         8.190000       0.580000       5.490000       0.000000   \n",
       "75%        19.690000       2.000000      15.350000       0.000000   \n",
       "max      1792.070000     717.940000    4091.270000      80.560000   \n",
       "\n",
       "       late_aircraft_ct  arr_cancelled   arr_diverted      arr_delay  \\\n",
       "count     317529.000000  317529.000000  317529.000000  317529.000000   \n",
       "mean          24.975734       7.207257       0.867672    4209.947536   \n",
       "std           75.275223      37.216301       3.915760   12518.907854   \n",
       "min            0.000000       0.000000       0.000000       0.000000   \n",
       "25%            1.640000       0.000000       0.000000     436.000000   \n",
       "50%            5.860000       1.000000       0.000000    1201.000000   \n",
       "75%           17.040000       4.000000       1.000000    3080.000000   \n",
       "max         1885.470000    4951.000000     256.000000  433687.000000   \n",
       "\n",
       "       carrier_delay  weather_delay      nas_delay  security_delay  \\\n",
       "count  317529.000000  317529.000000  317529.000000   317529.000000   \n",
       "mean     1286.583503     220.567542    1099.516422        7.214799   \n",
       "std      3515.397263     861.521440    4636.475908       38.854566   \n",
       "min         0.000000       0.000000     -19.000000        0.000000   \n",
       "25%       148.000000       0.000000      56.000000        0.000000   \n",
       "50%       437.000000      25.000000     203.000000        0.000000   \n",
       "75%      1100.000000     159.000000     602.000000        0.000000   \n",
       "max    196944.000000   57707.000000  238440.000000     3760.000000   \n",
       "\n",
       "       late_aircraft_delay  \n",
       "count        317529.000000  \n",
       "mean           1596.062993  \n",
       "std            4924.950687  \n",
       "min               0.000000  \n",
       "25%              79.000000  \n",
       "50%             351.000000  \n",
       "75%            1110.000000  \n",
       "max          148181.000000  "
      ]
     },
     "execution_count": 7,
     "metadata": {},
     "output_type": "execute_result"
    }
   ],
   "source": [
    "df.describe()"
   ]
  },
  {
   "cell_type": "code",
   "execution_count": 8,
   "id": "d38cad2b",
   "metadata": {},
   "outputs": [
    {
     "data": {
      "text/plain": [
       "Index(['year', 'month', 'carrier', 'carrier_name', 'airport', 'airport_name',\n",
       "       'arr_flights', 'arr_del15', 'carrier_ct', 'weather_ct', 'nas_ct',\n",
       "       'security_ct', 'late_aircraft_ct', 'arr_cancelled', 'arr_diverted',\n",
       "       'arr_delay', 'carrier_delay', 'weather_delay', 'nas_delay',\n",
       "       'security_delay', 'late_aircraft_delay'],\n",
       "      dtype='object')"
      ]
     },
     "execution_count": 8,
     "metadata": {},
     "output_type": "execute_result"
    }
   ],
   "source": [
    "# CHECK WHAT COLUMNS ARE THERE IN THE DATASET\n",
    "df.columns"
   ]
  },
  {
   "cell_type": "markdown",
   "id": "902870fa",
   "metadata": {},
   "source": [
    "### CHECKING IF THE DATA HAS NULL VALUES"
   ]
  },
  {
   "cell_type": "code",
   "execution_count": 9,
   "id": "3b467fc6",
   "metadata": {},
   "outputs": [
    {
     "data": {
      "text/plain": [
       "year                     0\n",
       "month                    0\n",
       "carrier                  0\n",
       "carrier_name             0\n",
       "airport                  0\n",
       "airport_name             0\n",
       "arr_flights            488\n",
       "arr_del15              728\n",
       "carrier_ct             488\n",
       "weather_ct             488\n",
       "nas_ct                 488\n",
       "security_ct            488\n",
       "late_aircraft_ct       488\n",
       "arr_cancelled          488\n",
       "arr_diverted           488\n",
       "arr_delay              488\n",
       "carrier_delay          488\n",
       "weather_delay          488\n",
       "nas_delay              488\n",
       "security_delay         488\n",
       "late_aircraft_delay    488\n",
       "dtype: int64"
      ]
     },
     "execution_count": 9,
     "metadata": {},
     "output_type": "execute_result"
    }
   ],
   "source": [
    "df.isnull().sum()"
   ]
  },
  {
   "cell_type": "markdown",
   "id": "62c13b24",
   "metadata": {},
   "source": [
    "### The data has null values but as compared to the size of the dataset it is very low in number, Now lets check the percentage of missing values in each column."
   ]
  },
  {
   "cell_type": "code",
   "execution_count": 10,
   "id": "73140aae",
   "metadata": {},
   "outputs": [
    {
     "data": {
      "text/plain": [
       "year                   0.000000\n",
       "month                  0.000000\n",
       "carrier                0.000000\n",
       "carrier_name           0.000000\n",
       "airport                0.000000\n",
       "airport_name           0.000000\n",
       "arr_flights            0.153451\n",
       "arr_del15              0.228919\n",
       "carrier_ct             0.153451\n",
       "weather_ct             0.153451\n",
       "nas_ct                 0.153451\n",
       "security_ct            0.153451\n",
       "late_aircraft_ct       0.153451\n",
       "arr_cancelled          0.153451\n",
       "arr_diverted           0.153451\n",
       "arr_delay              0.153451\n",
       "carrier_delay          0.153451\n",
       "weather_delay          0.153451\n",
       "nas_delay              0.153451\n",
       "security_delay         0.153451\n",
       "late_aircraft_delay    0.153451\n",
       "dtype: float64"
      ]
     },
     "execution_count": 10,
     "metadata": {},
     "output_type": "execute_result"
    }
   ],
   "source": [
    "df.isnull().sum()/df.shape[0]*100"
   ]
  },
  {
   "cell_type": "markdown",
   "id": "1b7cdb38",
   "metadata": {},
   "source": [
    "### Percentage of missing values is less than 1% so dropping the null values will not show any effect on the data."
   ]
  },
  {
   "cell_type": "markdown",
   "id": "6f663add",
   "metadata": {},
   "source": [
    "## DATA CLEANING"
   ]
  },
  {
   "cell_type": "code",
   "execution_count": 11,
   "id": "785a50f9",
   "metadata": {},
   "outputs": [],
   "source": [
    "df1 = df.dropna()"
   ]
  },
  {
   "cell_type": "code",
   "execution_count": 12,
   "id": "e7127995",
   "metadata": {},
   "outputs": [
    {
     "data": {
      "text/plain": [
       "year                   0\n",
       "month                  0\n",
       "carrier                0\n",
       "carrier_name           0\n",
       "airport                0\n",
       "airport_name           0\n",
       "arr_flights            0\n",
       "arr_del15              0\n",
       "carrier_ct             0\n",
       "weather_ct             0\n",
       "nas_ct                 0\n",
       "security_ct            0\n",
       "late_aircraft_ct       0\n",
       "arr_cancelled          0\n",
       "arr_diverted           0\n",
       "arr_delay              0\n",
       "carrier_delay          0\n",
       "weather_delay          0\n",
       "nas_delay              0\n",
       "security_delay         0\n",
       "late_aircraft_delay    0\n",
       "dtype: int64"
      ]
     },
     "execution_count": 12,
     "metadata": {},
     "output_type": "execute_result"
    }
   ],
   "source": [
    "df1.isnull().sum()"
   ]
  },
  {
   "cell_type": "markdown",
   "id": "1ee5fd3d",
   "metadata": {},
   "source": [
    "### There are no more null values in the dataset, all the null values are dropped from the dataset"
   ]
  },
  {
   "cell_type": "code",
   "execution_count": 13,
   "id": "307509ea",
   "metadata": {
    "scrolled": true
   },
   "outputs": [
    {
     "data": {
      "text/html": [
       "<div>\n",
       "<style scoped>\n",
       "    .dataframe tbody tr th:only-of-type {\n",
       "        vertical-align: middle;\n",
       "    }\n",
       "\n",
       "    .dataframe tbody tr th {\n",
       "        vertical-align: top;\n",
       "    }\n",
       "\n",
       "    .dataframe thead th {\n",
       "        text-align: right;\n",
       "    }\n",
       "</style>\n",
       "<table border=\"1\" class=\"dataframe\">\n",
       "  <thead>\n",
       "    <tr style=\"text-align: right;\">\n",
       "      <th></th>\n",
       "      <th>year</th>\n",
       "      <th>month</th>\n",
       "      <th>arr_flights</th>\n",
       "      <th>arr_del15</th>\n",
       "      <th>carrier_ct</th>\n",
       "      <th>weather_ct</th>\n",
       "      <th>nas_ct</th>\n",
       "      <th>security_ct</th>\n",
       "      <th>late_aircraft_ct</th>\n",
       "      <th>arr_cancelled</th>\n",
       "      <th>arr_diverted</th>\n",
       "      <th>arr_delay</th>\n",
       "      <th>carrier_delay</th>\n",
       "      <th>weather_delay</th>\n",
       "      <th>nas_delay</th>\n",
       "      <th>security_delay</th>\n",
       "      <th>late_aircraft_delay</th>\n",
       "    </tr>\n",
       "  </thead>\n",
       "  <tbody>\n",
       "    <tr>\n",
       "      <th>count</th>\n",
       "      <td>317289.000000</td>\n",
       "      <td>317289.000000</td>\n",
       "      <td>317289.000000</td>\n",
       "      <td>317289.000000</td>\n",
       "      <td>317289.000000</td>\n",
       "      <td>317289.000000</td>\n",
       "      <td>317289.000000</td>\n",
       "      <td>317289.000000</td>\n",
       "      <td>317289.000000</td>\n",
       "      <td>317289.000000</td>\n",
       "      <td>317289.000000</td>\n",
       "      <td>317289.000000</td>\n",
       "      <td>317289.000000</td>\n",
       "      <td>317289.000000</td>\n",
       "      <td>317289.000000</td>\n",
       "      <td>317289.000000</td>\n",
       "      <td>317289.000000</td>\n",
       "    </tr>\n",
       "    <tr>\n",
       "      <th>mean</th>\n",
       "      <td>2012.446356</td>\n",
       "      <td>6.498315</td>\n",
       "      <td>382.046226</td>\n",
       "      <td>72.904403</td>\n",
       "      <td>21.088920</td>\n",
       "      <td>2.618358</td>\n",
       "      <td>24.023386</td>\n",
       "      <td>0.179172</td>\n",
       "      <td>24.994626</td>\n",
       "      <td>7.206317</td>\n",
       "      <td>0.868193</td>\n",
       "      <td>4213.131974</td>\n",
       "      <td>1287.556685</td>\n",
       "      <td>220.734381</td>\n",
       "      <td>1100.348105</td>\n",
       "      <td>7.220257</td>\n",
       "      <td>1597.270268</td>\n",
       "    </tr>\n",
       "    <tr>\n",
       "      <th>std</th>\n",
       "      <td>5.677271</td>\n",
       "      <td>3.459955</td>\n",
       "      <td>1027.486006</td>\n",
       "      <td>198.935595</td>\n",
       "      <td>47.685808</td>\n",
       "      <td>9.972059</td>\n",
       "      <td>85.143379</td>\n",
       "      <td>0.845139</td>\n",
       "      <td>75.300552</td>\n",
       "      <td>37.227520</td>\n",
       "      <td>3.917172</td>\n",
       "      <td>12523.106018</td>\n",
       "      <td>3516.548396</td>\n",
       "      <td>861.825845</td>\n",
       "      <td>4638.130463</td>\n",
       "      <td>38.868752</td>\n",
       "      <td>4926.617274</td>\n",
       "    </tr>\n",
       "    <tr>\n",
       "      <th>min</th>\n",
       "      <td>2003.000000</td>\n",
       "      <td>1.000000</td>\n",
       "      <td>1.000000</td>\n",
       "      <td>0.000000</td>\n",
       "      <td>0.000000</td>\n",
       "      <td>0.000000</td>\n",
       "      <td>-0.010000</td>\n",
       "      <td>0.000000</td>\n",
       "      <td>0.000000</td>\n",
       "      <td>0.000000</td>\n",
       "      <td>0.000000</td>\n",
       "      <td>0.000000</td>\n",
       "      <td>0.000000</td>\n",
       "      <td>0.000000</td>\n",
       "      <td>-19.000000</td>\n",
       "      <td>0.000000</td>\n",
       "      <td>0.000000</td>\n",
       "    </tr>\n",
       "    <tr>\n",
       "      <th>25%</th>\n",
       "      <td>2007.000000</td>\n",
       "      <td>3.000000</td>\n",
       "      <td>59.000000</td>\n",
       "      <td>9.000000</td>\n",
       "      <td>3.010000</td>\n",
       "      <td>0.000000</td>\n",
       "      <td>1.690000</td>\n",
       "      <td>0.000000</td>\n",
       "      <td>1.650000</td>\n",
       "      <td>0.000000</td>\n",
       "      <td>0.000000</td>\n",
       "      <td>437.000000</td>\n",
       "      <td>149.000000</td>\n",
       "      <td>0.000000</td>\n",
       "      <td>56.000000</td>\n",
       "      <td>0.000000</td>\n",
       "      <td>79.000000</td>\n",
       "    </tr>\n",
       "    <tr>\n",
       "      <th>50%</th>\n",
       "      <td>2012.000000</td>\n",
       "      <td>6.000000</td>\n",
       "      <td>120.000000</td>\n",
       "      <td>23.000000</td>\n",
       "      <td>8.210000</td>\n",
       "      <td>0.580000</td>\n",
       "      <td>5.500000</td>\n",
       "      <td>0.000000</td>\n",
       "      <td>5.870000</td>\n",
       "      <td>1.000000</td>\n",
       "      <td>0.000000</td>\n",
       "      <td>1203.000000</td>\n",
       "      <td>437.000000</td>\n",
       "      <td>25.000000</td>\n",
       "      <td>203.000000</td>\n",
       "      <td>0.000000</td>\n",
       "      <td>352.000000</td>\n",
       "    </tr>\n",
       "    <tr>\n",
       "      <th>75%</th>\n",
       "      <td>2018.000000</td>\n",
       "      <td>10.000000</td>\n",
       "      <td>274.000000</td>\n",
       "      <td>56.000000</td>\n",
       "      <td>19.710000</td>\n",
       "      <td>2.000000</td>\n",
       "      <td>15.370000</td>\n",
       "      <td>0.000000</td>\n",
       "      <td>17.050000</td>\n",
       "      <td>4.000000</td>\n",
       "      <td>1.000000</td>\n",
       "      <td>3083.000000</td>\n",
       "      <td>1101.000000</td>\n",
       "      <td>159.000000</td>\n",
       "      <td>602.000000</td>\n",
       "      <td>0.000000</td>\n",
       "      <td>1111.000000</td>\n",
       "    </tr>\n",
       "    <tr>\n",
       "      <th>max</th>\n",
       "      <td>2022.000000</td>\n",
       "      <td>12.000000</td>\n",
       "      <td>21977.000000</td>\n",
       "      <td>6377.000000</td>\n",
       "      <td>1792.070000</td>\n",
       "      <td>717.940000</td>\n",
       "      <td>4091.270000</td>\n",
       "      <td>80.560000</td>\n",
       "      <td>1885.470000</td>\n",
       "      <td>4951.000000</td>\n",
       "      <td>256.000000</td>\n",
       "      <td>433687.000000</td>\n",
       "      <td>196944.000000</td>\n",
       "      <td>57707.000000</td>\n",
       "      <td>238440.000000</td>\n",
       "      <td>3760.000000</td>\n",
       "      <td>148181.000000</td>\n",
       "    </tr>\n",
       "  </tbody>\n",
       "</table>\n",
       "</div>"
      ],
      "text/plain": [
       "                year          month    arr_flights      arr_del15  \\\n",
       "count  317289.000000  317289.000000  317289.000000  317289.000000   \n",
       "mean     2012.446356       6.498315     382.046226      72.904403   \n",
       "std         5.677271       3.459955    1027.486006     198.935595   \n",
       "min      2003.000000       1.000000       1.000000       0.000000   \n",
       "25%      2007.000000       3.000000      59.000000       9.000000   \n",
       "50%      2012.000000       6.000000     120.000000      23.000000   \n",
       "75%      2018.000000      10.000000     274.000000      56.000000   \n",
       "max      2022.000000      12.000000   21977.000000    6377.000000   \n",
       "\n",
       "          carrier_ct     weather_ct         nas_ct    security_ct  \\\n",
       "count  317289.000000  317289.000000  317289.000000  317289.000000   \n",
       "mean       21.088920       2.618358      24.023386       0.179172   \n",
       "std        47.685808       9.972059      85.143379       0.845139   \n",
       "min         0.000000       0.000000      -0.010000       0.000000   \n",
       "25%         3.010000       0.000000       1.690000       0.000000   \n",
       "50%         8.210000       0.580000       5.500000       0.000000   \n",
       "75%        19.710000       2.000000      15.370000       0.000000   \n",
       "max      1792.070000     717.940000    4091.270000      80.560000   \n",
       "\n",
       "       late_aircraft_ct  arr_cancelled   arr_diverted      arr_delay  \\\n",
       "count     317289.000000  317289.000000  317289.000000  317289.000000   \n",
       "mean          24.994626       7.206317       0.868193    4213.131974   \n",
       "std           75.300552      37.227520       3.917172   12523.106018   \n",
       "min            0.000000       0.000000       0.000000       0.000000   \n",
       "25%            1.650000       0.000000       0.000000     437.000000   \n",
       "50%            5.870000       1.000000       0.000000    1203.000000   \n",
       "75%           17.050000       4.000000       1.000000    3083.000000   \n",
       "max         1885.470000    4951.000000     256.000000  433687.000000   \n",
       "\n",
       "       carrier_delay  weather_delay      nas_delay  security_delay  \\\n",
       "count  317289.000000  317289.000000  317289.000000   317289.000000   \n",
       "mean     1287.556685     220.734381    1100.348105        7.220257   \n",
       "std      3516.548396     861.825845    4638.130463       38.868752   \n",
       "min         0.000000       0.000000     -19.000000        0.000000   \n",
       "25%       149.000000       0.000000      56.000000        0.000000   \n",
       "50%       437.000000      25.000000     203.000000        0.000000   \n",
       "75%      1101.000000     159.000000     602.000000        0.000000   \n",
       "max    196944.000000   57707.000000  238440.000000     3760.000000   \n",
       "\n",
       "       late_aircraft_delay  \n",
       "count        317289.000000  \n",
       "mean           1597.270268  \n",
       "std            4926.617274  \n",
       "min               0.000000  \n",
       "25%              79.000000  \n",
       "50%             352.000000  \n",
       "75%            1111.000000  \n",
       "max          148181.000000  "
      ]
     },
     "execution_count": 13,
     "metadata": {},
     "output_type": "execute_result"
    }
   ],
   "source": [
    "df1.describe()"
   ]
  },
  {
   "cell_type": "markdown",
   "id": "e184a7fc",
   "metadata": {},
   "source": [
    "### Min and Max value gives the min and max time delay for each cause and mean value gives the average time for each cause.\n",
    "### For Example, weather_deay has the max time delay of 57707 and min time delay of 0 and avg time delay of 220.734381\t"
   ]
  },
  {
   "cell_type": "code",
   "execution_count": 14,
   "id": "e6191aff",
   "metadata": {},
   "outputs": [
    {
     "data": {
      "text/plain": [
       "33"
      ]
     },
     "execution_count": 14,
     "metadata": {},
     "output_type": "execute_result"
    }
   ],
   "source": [
    "# Now lets check the number if uniques value in carrier_name\n",
    "len(df1.carrier_name.unique())"
   ]
  },
  {
   "cell_type": "code",
   "execution_count": 15,
   "id": "eedd1c70",
   "metadata": {},
   "outputs": [
    {
     "name": "stdout",
     "output_type": "stream",
     "text": [
      "['Endeavor Air Inc.' 'American Airlines Inc.' 'Alaska Airlines Inc.'\n",
      " 'JetBlue Airways' 'Delta Air Lines Inc.' 'Frontier Airlines Inc.'\n",
      " 'Allegiant Air' 'Hawaiian Airlines Inc.' 'Envoy Air' 'Spirit Air Lines'\n",
      " 'PSA Airlines Inc.' 'SkyWest Airlines Inc.' 'Horizon Air'\n",
      " 'United Air Lines Inc.' 'Southwest Airlines Co.' 'Mesa Airlines Inc.'\n",
      " 'Republic Airline' 'ExpressJet Airlines LLC' 'ExpressJet Airlines Inc.'\n",
      " 'Virgin America' 'US Airways Inc.' 'AirTran Airways Corporation'\n",
      " 'American Eagle Airlines Inc.' 'Pinnacle Airlines Inc.'\n",
      " 'Atlantic Southeast Airlines' 'Continental Air Lines Inc.' 'Comair Inc.'\n",
      " 'Northwest Airlines Inc.' 'Aloha Airlines Inc.' 'ATA Airlines d/b/a ATA'\n",
      " 'Independence Air' 'America West Airlines Inc.' 'Atlantic Coast Airlines']\n"
     ]
    }
   ],
   "source": [
    "print(df1.carrier_name.unique())"
   ]
  },
  {
   "cell_type": "markdown",
   "id": "6fc9f267",
   "metadata": {},
   "source": [
    "### The dataset contains the data of above 33 airlines"
   ]
  },
  {
   "cell_type": "code",
   "execution_count": 16,
   "id": "19014112",
   "metadata": {},
   "outputs": [
    {
     "data": {
      "text/plain": [
       "418"
      ]
     },
     "execution_count": 16,
     "metadata": {},
     "output_type": "execute_result"
    }
   ],
   "source": [
    "# CHECK HOW MANY AIRPORTS ARE THERE IN THE DATASET AFTER CLEANING THE DATASET\n",
    "len(df1.airport.unique())"
   ]
  },
  {
   "cell_type": "code",
   "execution_count": 17,
   "id": "1e7e9b45",
   "metadata": {},
   "outputs": [
    {
     "data": {
      "text/plain": [
       "array(['ABE', 'ABY', 'ACK', 'AEX', 'AGS', 'ALB', 'ATL', 'ATW', 'AUS',\n",
       "       'AVL', 'AZO', 'BGM', 'BGR', 'BHM', 'BMI', 'BNA', 'BOS', 'BQK',\n",
       "       'BTR', 'BTV', 'BUF', 'BWI', 'CAE', 'CHA', 'CHO', 'CHS', 'CID',\n",
       "       'CLE', 'CLT', 'CMH', 'CRW', 'CSG', 'CVG', 'CWA', 'DAY', 'DCA',\n",
       "       'DHN', 'DLH', 'DSM', 'DTW', 'EVV', 'EWR', 'EYW', 'FAY', 'FSD',\n",
       "       'FWA', 'GNV', 'GPT', 'GRR', 'GSO', 'GSP', 'GTR', 'HPN', 'ILM',\n",
       "       'IND', 'ITH', 'JFK', 'LAN', 'LEX', 'LFT', 'LGA', 'MBS', 'MCI',\n",
       "       'MEM', 'MGM', 'MKE', 'MLI', 'MLU', 'MOB', 'MOT', 'MSN', 'MSP',\n",
       "       'MYR', 'OAJ', 'OMA', 'ORD', 'ORF', 'ORH', 'PIT', 'PVD', 'RDU',\n",
       "       'RIC', 'ROA', 'ROC', 'RST', 'SAV', 'SBN', 'SDF', 'SGF', 'SHV',\n",
       "       'STL', 'SYR', 'TLH', 'TRI', 'TVC', 'TYS', 'VLD', 'XNA', 'ABQ',\n",
       "       'AMA', 'ANC', 'AVP', 'BDL', 'BOI', 'BUR', 'BZN', 'COS', 'DEN',\n",
       "       'DFW', 'EGE', 'ELP', 'EUG', 'FAT', 'FCA', 'FLL', 'GEG', 'HNL',\n",
       "       'IAD', 'IAH', 'ICT', 'JAX', 'KOA', 'LAS', 'LAX', 'LBB', 'LIH',\n",
       "       'LIT', 'MCO', 'MDT', 'MFE', 'MIA', 'MSO', 'MSY', 'OGG', 'OKC',\n",
       "       'ONT', 'PBI', 'PDX', 'PHL', 'PHX', 'PNS', 'PSP', 'PWM', 'RNO',\n",
       "       'RSW', 'SAN', 'SAT', 'SBA', 'SEA', 'SFO', 'SJC', 'SJU', 'SLC',\n",
       "       'SMF', 'SNA', 'SRQ', 'STT', 'STX', 'TPA', 'TUL', 'TUS', 'VPS',\n",
       "       'ADK', 'ADQ', 'AKN', 'BET', 'BRW', 'CDV', 'DAL', 'DLG', 'FAI',\n",
       "       'GST', 'JNU', 'KTN', 'OAK', 'OME', 'OTZ', 'PAE', 'PSG', 'SCC',\n",
       "       'SIT', 'WRG', 'YAK', 'BQN', 'HYA', 'MVY', 'PSE', 'BIL', 'DAB',\n",
       "       'ECP', 'FAR', 'GRB', 'HOU', 'HSV', 'IDA', 'JAN', 'MDW', 'MLB',\n",
       "       'BIS', 'BKG', 'DRO', 'GJT', 'HRL', 'ILG', 'ISP', 'SWF', 'TTN',\n",
       "       'AZA', 'BLI', 'BLV', 'CAK', 'CKB', 'ELM', 'FNT', 'GFK', 'GRI',\n",
       "       'GTF', 'HGR', 'HTS', 'IAG', 'LCK', 'LRD', 'MFR', 'MRY', 'OWB',\n",
       "       'PBG', 'PGD', 'PIA', 'PIE', 'PSC', 'PSM', 'PVU', 'RAP', 'RDM',\n",
       "       'RFD', 'SCE', 'SCK', 'SFB', 'SMX', 'SPI', 'STC', 'TOL', 'USA',\n",
       "       'ITO', 'LGB', 'PPG', 'ABI', 'ACT', 'ALO', 'BFL', 'BPT', 'BRO',\n",
       "       'CLL', 'CMI', 'COU', 'CRP', 'DBQ', 'DRT', 'FSM', 'GCK', 'GGG',\n",
       "       'GRK', 'HHH', 'LAW', 'LCH', 'LSE', 'MAF', 'MHK', 'MQT', 'SBP',\n",
       "       'SJT', 'SPS', 'STS', 'SWO', 'TXK', 'TYR', 'ACY', 'LBE', 'MHT',\n",
       "       'EWN', 'LYH', 'PHF', 'ABR', 'ACV', 'ALS', 'APN', 'ASE', 'BFF',\n",
       "       'BJI', 'BRD', 'BTM', 'CDC', 'CGI', 'CIU', 'CMX', 'CNY', 'COD',\n",
       "       'CPR', 'CYS', 'DDC', 'DEC', 'DIK', 'DVL', 'EAR', 'EAU', 'EKO',\n",
       "       'ESC', 'FLG', 'FOD', 'GCC', 'GUC', 'HDN', 'HIB', 'HLN', 'HOB',\n",
       "       'HYS', 'IMT', 'INL', 'JLN', 'JMS', 'JST', 'LAR', 'LBF', 'LBL',\n",
       "       'LNK', 'LWB', 'LWS', 'MCW', 'MEI', 'MKG', 'MTJ', 'OGS', 'OTH',\n",
       "       'PAH', 'PIB', 'PIH', 'PLN', 'PRC', 'PUB', 'RDD', 'RHI', 'RIW',\n",
       "       'RKS', 'ROW', 'SAF', 'SGU', 'SHD', 'SHR', 'SLN', 'SUN', 'SUX',\n",
       "       'TBN', 'TWF', 'VCT', 'VEL', 'WYS', 'XWA', 'YUM', 'ALW', 'EAT',\n",
       "       'PUW', 'YKM', 'GUM', 'SPN', 'JAC', 'OGD', 'ERI', 'BIH', 'ATY',\n",
       "       'PIR', 'HVN', 'CDB', 'IPT', 'BFM', 'MMH', 'UIN', 'PGV', 'ISN',\n",
       "       'ART', 'YNG', 'IFP', 'FNL', 'UST', 'CLD', 'CEC', 'CIC', 'FOE',\n",
       "       'LMT', 'MOD', 'IYK', 'IPL', 'TUP', 'UTM', 'TEX', 'FLO', 'MWH',\n",
       "       'OXR', 'PFN', 'PMD', 'MCN', 'SLE', 'SOP', 'APF', 'MTH', 'MKC',\n",
       "       'GLH', 'ISO', 'RCA', 'HKY', 'VIS', 'FMN', 'EFD', 'LNY', 'MKK',\n",
       "       'ILE', 'SKA', 'CBM', 'DUT'], dtype=object)"
      ]
     },
     "execution_count": 17,
     "metadata": {},
     "output_type": "execute_result"
    }
   ],
   "source": [
    "df1.airport.unique()"
   ]
  },
  {
   "cell_type": "code",
   "execution_count": 18,
   "id": "79a1f1e5",
   "metadata": {},
   "outputs": [
    {
     "data": {
      "text/plain": [
       "20"
      ]
     },
     "execution_count": 18,
     "metadata": {},
     "output_type": "execute_result"
    }
   ],
   "source": [
    "len(df1.year.unique())"
   ]
  },
  {
   "cell_type": "code",
   "execution_count": 19,
   "id": "2f7b6f62",
   "metadata": {},
   "outputs": [
    {
     "data": {
      "text/plain": [
       "array([2022, 2021, 2020, 2019, 2018, 2017, 2016, 2015, 2014, 2013, 2012,\n",
       "       2011, 2010, 2009, 2008, 2007, 2006, 2005, 2004, 2003])"
      ]
     },
     "execution_count": 19,
     "metadata": {},
     "output_type": "execute_result"
    }
   ],
   "source": [
    "df1.year.unique()"
   ]
  },
  {
   "cell_type": "markdown",
   "id": "79cc3fa1",
   "metadata": {},
   "source": [
    "### dataset contains data from year 2003 - 2022"
   ]
  },
  {
   "cell_type": "markdown",
   "id": "d0c2b533",
   "metadata": {},
   "source": [
    "## Now lets check which year has the most and least number of delays."
   ]
  },
  {
   "cell_type": "code",
   "execution_count": 20,
   "id": "daabd775",
   "metadata": {},
   "outputs": [
    {
     "data": {
      "text/plain": [
       "2019    20927\n",
       "2021    19929\n",
       "2007    19485\n",
       "2008    18885\n",
       "2020    18599\n",
       "2006    18062\n",
       "2009    17637\n",
       "2010    17554\n",
       "2018    17111\n",
       "2005    17006\n",
       "2004    16689\n",
       "2013    16068\n",
       "2011    15567\n",
       "2012    14366\n",
       "2014    13957\n",
       "2015    13513\n",
       "2017    12503\n",
       "2016    12195\n",
       "2003     8757\n",
       "2022     8479\n",
       "Name: year, dtype: int64"
      ]
     },
     "execution_count": 20,
     "metadata": {},
     "output_type": "execute_result"
    }
   ],
   "source": [
    "df1.year.value_counts()"
   ]
  },
  {
   "cell_type": "markdown",
   "id": "0ba71e65",
   "metadata": {},
   "source": [
    "### The year 2019 has the most number of entries that means 2019 year has the most number of delays in airlines.\n",
    "### And the year 2022 has the least number of entries which meas it has the least number of delays."
   ]
  },
  {
   "cell_type": "code",
   "execution_count": 21,
   "id": "36abbe10",
   "metadata": {
    "scrolled": false
   },
   "outputs": [
    {
     "data": {
      "image/png": "[encoded data removed]",
      "text/plain": [
       "<Figure size 1440x720 with 1 Axes>"
      ]
     },
     "metadata": {
      "needs_background": "light"
     },
     "output_type": "display_data"
    }
   ],
   "source": [
    "df1['year'].value_counts().plot(kind = 'bar',color=\"Green\",figsize=(20,10))\n",
    "plt.xlabel(\"Year\",fontdict={'fontsize':12,'fontweight':3,'color':'Blue'})\n",
    "plt.ylabel(\"NO.Of Delays\",fontdict={'fontsize':12,'fontweight':3,'color':'Blue'})\n",
    "plt.show()"
   ]
  },
  {
   "cell_type": "markdown",
   "id": "77dce95f",
   "metadata": {},
   "source": [
    "### From the above Bargraph we can clearly see that tha year 2019 has the most number of delays and 2022 has the least number of delays."
   ]
  },
  {
   "cell_type": "markdown",
   "id": "5015599d",
   "metadata": {},
   "source": [
    "#### Questions"
   ]
  },
  {
   "cell_type": "code",
   "execution_count": 22,
   "id": "8942e31f",
   "metadata": {},
   "outputs": [],
   "source": [
    "# which is the most delayed airline and the main cause for the delay\n",
    "# which airport has most delays\n",
    "# Reason for most of the delays\n",
    "# which airport has least number of delays and which airlines has the least\n",
    "# What is the max time delay for each airport and airlines"
   ]
  },
  {
   "cell_type": "markdown",
   "id": "0a1284e5",
   "metadata": {},
   "source": [
    "## Lets check in the year 2019 which airlines delayed the most."
   ]
  },
  {
   "cell_type": "code",
   "execution_count": 23,
   "id": "dca89244",
   "metadata": {},
   "outputs": [],
   "source": [
    "df1_2019 = df1[df1['year'] == 2019]"
   ]
  },
  {
   "cell_type": "code",
   "execution_count": 24,
   "id": "7fa71f0a",
   "metadata": {},
   "outputs": [
    {
     "data": {
      "text/plain": [
       "20927"
      ]
     },
     "execution_count": 24,
     "metadata": {},
     "output_type": "execute_result"
    }
   ],
   "source": [
    "len(df1_2019)"
   ]
  },
  {
   "cell_type": "code",
   "execution_count": 25,
   "id": "066a6533",
   "metadata": {
    "scrolled": false
   },
   "outputs": [
    {
     "data": {
      "text/plain": [
       "<AxesSubplot:xlabel='month'>"
      ]
     },
     "execution_count": 25,
     "metadata": {},
     "output_type": "execute_result"
    },
    {
     "data": {
      "image/png": "[encoded data removed]",
      "text/plain": [
       "<Figure size 1440x720 with 1 Axes>"
      ]
     },
     "metadata": {
      "needs_background": "light"
     },
     "output_type": "display_data"
    }
   ],
   "source": [
    "#lets check in which month the flights have delayed most\n",
    "df1_2019.groupby('month').mean()['arr_delay'].plot(kind='line',figsize=(20,10))"
   ]
  },
  {
   "cell_type": "markdown",
   "id": "497b682f",
   "metadata": {},
   "source": [
    "### From the above graph we can cleary see that delay time started increasing in between the march to may which is summer season and in this season most of the travel."
   ]
  },
  {
   "cell_type": "code",
   "execution_count": 26,
   "id": "b929ee13",
   "metadata": {},
   "outputs": [
    {
     "data": {
      "text/plain": [
       "OO    2957\n",
       "DL    1729\n",
       "MQ    1707\n",
       "G4    1431\n",
       "YV    1331\n",
       "UA    1263\n",
       "AA    1256\n",
       "9E    1203\n",
       "F9    1180\n",
       "EV    1155\n",
       "YX    1110\n",
       "OH    1106\n",
       "WN    1048\n",
       "AS     865\n",
       "B6     784\n",
       "NK     577\n",
       "HA     225\n",
       "Name: carrier, dtype: int64"
      ]
     },
     "execution_count": 26,
     "metadata": {},
     "output_type": "execute_result"
    }
   ],
   "source": [
    "#Lets check which airlines has most delays.\n",
    "df1_2019.carrier.value_counts()"
   ]
  },
  {
   "cell_type": "code",
   "execution_count": 27,
   "id": "fc19e96a",
   "metadata": {},
   "outputs": [
    {
     "data": {
      "image/png": "[encoded data removed]",
      "text/plain": [
       "<Figure size 1440x720 with 1 Axes>"
      ]
     },
     "metadata": {
      "needs_background": "light"
     },
     "output_type": "display_data"
    }
   ],
   "source": [
    "df1_2019['carrier'].value_counts().plot(kind = \"bar\",figsize=(20,10))\n",
    "plt.xlabel(\"Airport\",fontdict={'fontsize':12,'fontweight':3,'color':'Blue'})\n",
    "plt.ylabel(\"No.Of Delays\",fontdict={'fontsize':12,'fontweight':3,'color':'Blue'})\n",
    "plt.show()"
   ]
  },
  {
   "cell_type": "markdown",
   "id": "519f2e38",
   "metadata": {},
   "source": [
    "### SkyWest Airlines(OO) has the most number delays in the year 2019"
   ]
  },
  {
   "cell_type": "code",
   "execution_count": 28,
   "id": "694f8b3b",
   "metadata": {},
   "outputs": [
    {
     "data": {
      "text/plain": [
       "count    317289.000000\n",
       "mean          7.206317\n",
       "std          37.227520\n",
       "min           0.000000\n",
       "25%           0.000000\n",
       "50%           1.000000\n",
       "75%           4.000000\n",
       "max        4951.000000\n",
       "Name: arr_cancelled, dtype: float64"
      ]
     },
     "execution_count": 28,
     "metadata": {},
     "output_type": "execute_result"
    }
   ],
   "source": [
    "#Lets now perfrom univariate analysis on arr_cancelled\n",
    "df1.arr_cancelled.describe()"
   ]
  },
  {
   "cell_type": "code",
   "execution_count": 29,
   "id": "2de7b91e",
   "metadata": {},
   "outputs": [
    {
     "data": {
      "text/html": [
       "<div>\n",
       "<style scoped>\n",
       "    .dataframe tbody tr th:only-of-type {\n",
       "        vertical-align: middle;\n",
       "    }\n",
       "\n",
       "    .dataframe tbody tr th {\n",
       "        vertical-align: top;\n",
       "    }\n",
       "\n",
       "    .dataframe thead th {\n",
       "        text-align: right;\n",
       "    }\n",
       "</style>\n",
       "<table border=\"1\" class=\"dataframe\">\n",
       "  <thead>\n",
       "    <tr style=\"text-align: right;\">\n",
       "      <th></th>\n",
       "      <th>year</th>\n",
       "      <th>month</th>\n",
       "      <th>carrier</th>\n",
       "      <th>carrier_name</th>\n",
       "      <th>airport</th>\n",
       "      <th>airport_name</th>\n",
       "      <th>arr_flights</th>\n",
       "      <th>arr_cancelled</th>\n",
       "    </tr>\n",
       "  </thead>\n",
       "  <tbody>\n",
       "    <tr>\n",
       "      <th>42296</th>\n",
       "      <td>2020</td>\n",
       "      <td>3</td>\n",
       "      <td>DL</td>\n",
       "      <td>Delta Air Lines Inc.</td>\n",
       "      <td>ATL</td>\n",
       "      <td>Atlanta, GA: Hartsfield-Jackson Atlanta Intern...</td>\n",
       "      <td>20669.0</td>\n",
       "      <td>4951.0</td>\n",
       "    </tr>\n",
       "  </tbody>\n",
       "</table>\n",
       "</div>"
      ],
      "text/plain": [
       "       year  month carrier          carrier_name airport  \\\n",
       "42296  2020      3      DL  Delta Air Lines Inc.     ATL   \n",
       "\n",
       "                                            airport_name  arr_flights  \\\n",
       "42296  Atlanta, GA: Hartsfield-Jackson Atlanta Intern...      20669.0   \n",
       "\n",
       "       arr_cancelled  \n",
       "42296         4951.0  "
      ]
     },
     "execution_count": 29,
     "metadata": {},
     "output_type": "execute_result"
    }
   ],
   "source": [
    "# now lets fetch the details of that which has the max number of cancelled flights\n",
    "df1[df1['arr_cancelled'] == df1.arr_cancelled.max()][['year','month','carrier','carrier_name','airport','airport_name','arr_flights','arr_cancelled']]"
   ]
  },
  {
   "cell_type": "markdown",
   "id": "7b0a2ffe",
   "metadata": {},
   "source": [
    "### We can see that in the month of march of year 2020 DL carrier reported the most number of filghts cancelled whichis 4951 out of 20669."
   ]
  },
  {
   "cell_type": "code",
   "execution_count": 30,
   "id": "87250e3d",
   "metadata": {},
   "outputs": [
    {
     "data": {
      "image/png": "[encoded data removed]",
      "text/plain": [
       "<Figure size 1440x720 with 1 Axes>"
      ]
     },
     "metadata": {
      "needs_background": "light"
     },
     "output_type": "display_data"
    }
   ],
   "source": [
    "#Lets plot the graph for year and arr_cancelled columns.\n",
    "df1.groupby(\"year\")[\"arr_cancelled\"].mean().plot(kind='bar',figsize=(20,10))\n",
    "plt.show()"
   ]
  },
  {
   "cell_type": "markdown",
   "id": "0872036b",
   "metadata": {},
   "source": [
    "### From the above bar graph we can clearly see that 2020 has the most number of flights cancelled and the reason is in that year corona outbreak took place and at that time most of the countries have announced lockdown."
   ]
  },
  {
   "cell_type": "code",
   "execution_count": 31,
   "id": "514c6d0b",
   "metadata": {},
   "outputs": [
    {
     "data": {
      "text/plain": [
       "count    317289.000000\n",
       "mean       1287.556685\n",
       "std        3516.548396\n",
       "min           0.000000\n",
       "25%         149.000000\n",
       "50%         437.000000\n",
       "75%        1101.000000\n",
       "max      196944.000000\n",
       "Name: carrier_delay, dtype: float64"
      ]
     },
     "execution_count": 31,
     "metadata": {},
     "output_type": "execute_result"
    }
   ],
   "source": [
    "# Now lets check the statistical values of each delay cause\n",
    "#carrier_delay\tweather_delay\tnas_delay\tsecurity_delay\tlate_aircraft_delay\n",
    "df1.carrier_delay.describe()"
   ]
  },
  {
   "cell_type": "markdown",
   "id": "3ba02c96",
   "metadata": {},
   "source": [
    "### The max time of delay that has caused due to carrier_delay is 196944 minutes and on average the flights have delayed for 437 minutes due to carrier delay."
   ]
  },
  {
   "cell_type": "code",
   "execution_count": 32,
   "id": "8aee515d",
   "metadata": {},
   "outputs": [
    {
     "data": {
      "text/html": [
       "<div>\n",
       "<style scoped>\n",
       "    .dataframe tbody tr th:only-of-type {\n",
       "        vertical-align: middle;\n",
       "    }\n",
       "\n",
       "    .dataframe tbody tr th {\n",
       "        vertical-align: top;\n",
       "    }\n",
       "\n",
       "    .dataframe thead th {\n",
       "        text-align: right;\n",
       "    }\n",
       "</style>\n",
       "<table border=\"1\" class=\"dataframe\">\n",
       "  <thead>\n",
       "    <tr style=\"text-align: right;\">\n",
       "      <th></th>\n",
       "      <th>year</th>\n",
       "      <th>month</th>\n",
       "      <th>carrier</th>\n",
       "      <th>carrier_name</th>\n",
       "      <th>airport</th>\n",
       "      <th>airport_name</th>\n",
       "      <th>arr_flights</th>\n",
       "      <th>arr_cancelled</th>\n",
       "      <th>carrier_delay</th>\n",
       "    </tr>\n",
       "  </thead>\n",
       "  <tbody>\n",
       "    <tr>\n",
       "      <th>102229</th>\n",
       "      <td>2016</td>\n",
       "      <td>8</td>\n",
       "      <td>DL</td>\n",
       "      <td>Delta Air Lines Inc.</td>\n",
       "      <td>ATL</td>\n",
       "      <td>Atlanta, GA: Hartsfield-Jackson Atlanta Intern...</td>\n",
       "      <td>21977.0</td>\n",
       "      <td>598.0</td>\n",
       "      <td>196944.0</td>\n",
       "    </tr>\n",
       "  </tbody>\n",
       "</table>\n",
       "</div>"
      ],
      "text/plain": [
       "        year  month carrier          carrier_name airport  \\\n",
       "102229  2016      8      DL  Delta Air Lines Inc.     ATL   \n",
       "\n",
       "                                             airport_name  arr_flights  \\\n",
       "102229  Atlanta, GA: Hartsfield-Jackson Atlanta Intern...      21977.0   \n",
       "\n",
       "        arr_cancelled  carrier_delay  \n",
       "102229          598.0       196944.0  "
      ]
     },
     "execution_count": 32,
     "metadata": {},
     "output_type": "execute_result"
    }
   ],
   "source": [
    "# Lets fetch the details of the flight which has delayed for max time due to carrier delay\n",
    "df1[df1['carrier_delay'] == df1.carrier_delay.max()][['year','month','carrier','carrier_name','airport','airport_name','arr_flights','arr_cancelled',\"carrier_delay\"]]"
   ]
  },
  {
   "cell_type": "markdown",
   "id": "71fe297d",
   "metadata": {},
   "source": [
    "### Delta Air Lines is the carrier that has delayed for 196944 minutes due to carrier delay in the 8th month of year 2016."
   ]
  },
  {
   "cell_type": "code",
   "execution_count": 33,
   "id": "bffeb384",
   "metadata": {},
   "outputs": [
    {
     "data": {
      "text/plain": [
       "count    317289.000000\n",
       "mean        220.734381\n",
       "std         861.825845\n",
       "min           0.000000\n",
       "25%           0.000000\n",
       "50%          25.000000\n",
       "75%         159.000000\n",
       "max       57707.000000\n",
       "Name: weather_delay, dtype: float64"
      ]
     },
     "execution_count": 33,
     "metadata": {},
     "output_type": "execute_result"
    }
   ],
   "source": [
    "#Lets now perform univariate analysis on weather_delay column\n",
    "df1.weather_delay.describe()"
   ]
  },
  {
   "cell_type": "markdown",
   "id": "f972ec37",
   "metadata": {},
   "source": [
    "### The maximun number of minutes of delay that has caused f=due to weather is 57707 mins and on an average the flights got delayed for 25 mins due to weather."
   ]
  },
  {
   "cell_type": "code",
   "execution_count": 34,
   "id": "7c162f73",
   "metadata": {},
   "outputs": [
    {
     "data": {
      "text/html": [
       "<div>\n",
       "<style scoped>\n",
       "    .dataframe tbody tr th:only-of-type {\n",
       "        vertical-align: middle;\n",
       "    }\n",
       "\n",
       "    .dataframe tbody tr th {\n",
       "        vertical-align: top;\n",
       "    }\n",
       "\n",
       "    .dataframe thead th {\n",
       "        text-align: right;\n",
       "    }\n",
       "</style>\n",
       "<table border=\"1\" class=\"dataframe\">\n",
       "  <thead>\n",
       "    <tr style=\"text-align: right;\">\n",
       "      <th></th>\n",
       "      <th>year</th>\n",
       "      <th>month</th>\n",
       "      <th>carrier</th>\n",
       "      <th>carrier_name</th>\n",
       "      <th>airport</th>\n",
       "      <th>airport_name</th>\n",
       "      <th>arr_flights</th>\n",
       "      <th>arr_cancelled</th>\n",
       "      <th>weather_delay</th>\n",
       "    </tr>\n",
       "  </thead>\n",
       "  <tbody>\n",
       "    <tr>\n",
       "      <th>246528</th>\n",
       "      <td>2007</td>\n",
       "      <td>7</td>\n",
       "      <td>EV</td>\n",
       "      <td>Atlantic Southeast Airlines</td>\n",
       "      <td>ATL</td>\n",
       "      <td>Atlanta, GA: Hartsfield-Jackson Atlanta Intern...</td>\n",
       "      <td>12048.0</td>\n",
       "      <td>529.0</td>\n",
       "      <td>57707.0</td>\n",
       "    </tr>\n",
       "  </tbody>\n",
       "</table>\n",
       "</div>"
      ],
      "text/plain": [
       "        year  month carrier                 carrier_name airport  \\\n",
       "246528  2007      7      EV  Atlantic Southeast Airlines     ATL   \n",
       "\n",
       "                                             airport_name  arr_flights  \\\n",
       "246528  Atlanta, GA: Hartsfield-Jackson Atlanta Intern...      12048.0   \n",
       "\n",
       "        arr_cancelled  weather_delay  \n",
       "246528          529.0        57707.0  "
      ]
     },
     "execution_count": 34,
     "metadata": {},
     "output_type": "execute_result"
    }
   ],
   "source": [
    "df1[df1['weather_delay'] == df1.weather_delay.max()][['year','month','carrier','carrier_name','airport','airport_name','arr_flights','arr_cancelled',\"weather_delay\"]]"
   ]
  },
  {
   "cell_type": "markdown",
   "id": "aa856bf6",
   "metadata": {},
   "source": [
    "### In the month of july the flight has delayed for max time in the year of 2007 and july is the month of rainy season and this the main reason that flight might have got delayed for max time."
   ]
  },
  {
   "cell_type": "code",
   "execution_count": 35,
   "id": "7d902801",
   "metadata": {},
   "outputs": [
    {
     "data": {
      "image/png": "[encoded data removed]",
      "text/plain": [
       "<Figure size 1440x720 with 1 Axes>"
      ]
     },
     "metadata": {
      "needs_background": "light"
     },
     "output_type": "display_data"
    }
   ],
   "source": [
    "# now plot a graph for month vs weather_delay\n",
    "df1.groupby(\"month\")[\"weather_delay\"].mean().plot(kind = 'line', figsize=(20,10))\n",
    "plt.ylabel(\"Time of delay\")\n",
    "plt.show()"
   ]
  },
  {
   "cell_type": "markdown",
   "id": "281a2b57",
   "metadata": {},
   "source": [
    "### The graph started rising from 4th month in which we will get started with rains and went to maximum in the months on 6, 7 and 8, these are the months in which we will getting heavy rains."
   ]
  },
  {
   "cell_type": "code",
   "execution_count": null,
   "id": "8cb66d14",
   "metadata": {},
   "outputs": [],
   "source": []
  }
 ],
 "metadata": {
  "kernelspec": {
   "display_name": "Python 3 (ipykernel)",
   "language": "python",
   "name": "python3"
  },
  "language_info": {
   "codemirror_mode": {
    "name": "ipython",
    "version": 3
   },
   "file_extension": ".py",
   "mimetype": "text/x-python",
   "name": "python",
   "nbconvert_exporter": "python",
   "pygments_lexer": "ipython3",
   "version": "3.9.7"
  }
 },
 "nbformat": 4,
 "nbformat_minor": 5
}
